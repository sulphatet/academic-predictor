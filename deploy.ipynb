{
 "cells": [
  {
   "cell_type": "code",
   "execution_count": 1,
   "id": "65c4daf4-751e-40b5-b3cf-262cd311140f",
   "metadata": {},
   "outputs": [],
   "source": [
    "import numpy as np\n",
    "import pandas as pd\n",
    "import matplotlib.pyplot as plt\n",
    "import seaborn as sns\n",
    "from sklearn.model_selection import train_test_split\n",
    "from sklearn.ensemble import RandomForestClassifier\n",
    "from sklearn.metrics import accuracy_score\n",
    "from sklearn.metrics import (\n",
    "    ConfusionMatrixDisplay,\n",
    "    accuracy_score,\n",
    "    classification_report,\n",
    "    confusion_matrix,\n",
    "    f1_score,\n",
    ")\n",
    "from src import infer"
   ]
  },
  {
   "cell_type": "code",
   "execution_count": 2,
   "id": "46cf152b-b493-43ad-bdcc-f141157b4561",
   "metadata": {},
   "outputs": [
    {
     "name": "stdout",
     "output_type": "stream",
     "text": [
      "0.8950953678474114\n",
      "0.7423728813559322\n"
     ]
    },
    {
     "name": "stderr",
     "output_type": "stream",
     "text": [
      "C:\\Users\\saffa\\AppData\\Local\\Temp\\ipykernel_11632\\3980505784.py:28: SettingWithCopyWarning: \n",
      "A value is trying to be set on a copy of a slice from a DataFrame.\n",
      "Try using .loc[row_indexer,col_indexer] = value instead\n",
      "\n",
      "See the caveats in the documentation: https://pandas.pydata.org/pandas-docs/stable/user_guide/indexing.html#returning-a-view-versus-a-copy\n",
      "  enrolled['Target'] = ypreds\n"
     ]
    }
   ],
   "source": [
    "df = pd.read_csv('inputs/dataset.csv')\n",
    "\n",
    "#gather all enrolled\n",
    "enrolled = df.loc[df['Target'] == 'Enrolled']\n",
    "imputed_df = df.loc[df['Target'] != 'Enrolled']\n",
    "\n",
    "# Split the data into training and test sets\n",
    "train_df, test_df = train_test_split(df, test_size=0.2, random_state=42)\n",
    "\n",
    "# for train and test drop all enrolled\n",
    "train_df = train_df.loc[train_df['Target'] != 'Enrolled']\n",
    "#print(train_df[:10])\n",
    "test_df_en = test_df.copy()\n",
    "test_df = test_df.loc[test_df['Target'] != 'Enrolled']\n",
    "\n",
    "# Train rf on train\n",
    "rf = RandomForestClassifier(n_estimators = 100,random_state=42)\n",
    "rf.fit(train_df.drop(columns=['Target']),train_df['Target'])\n",
    "\n",
    "# test rf on valid\n",
    "print(rf.score(test_df.drop(columns=['Target']),test_df['Target']))\n",
    "predse = rf.predict(test_df_en.drop(columns=['Target']))\n",
    "#print(predse[:20])\n",
    "print(accuracy_score(test_df_en['Target'],predse))\n",
    "\n",
    "#predict on enrolled\n",
    "ypreds = rf.predict(enrolled.drop(columns=['Target']))\n",
    "enrolled['Target'] = ypreds\n",
    "\n",
    "#print(enrolled[:10])\n",
    "\n",
    "#concat\n",
    "\n",
    "imputed_df = pd.concat([imputed_df, enrolled], axis=0)"
   ]
  },
  {
   "cell_type": "code",
   "execution_count": 3,
   "id": "b5a00833-ab52-4b6e-aa16-e248c1c27ba5",
   "metadata": {},
   "outputs": [
    {
     "data": {
      "text/html": [
       "<style>#sk-container-id-1 {color: black;background-color: white;}#sk-container-id-1 pre{padding: 0;}#sk-container-id-1 div.sk-toggleable {background-color: white;}#sk-container-id-1 label.sk-toggleable__label {cursor: pointer;display: block;width: 100%;margin-bottom: 0;padding: 0.3em;box-sizing: border-box;text-align: center;}#sk-container-id-1 label.sk-toggleable__label-arrow:before {content: \"▸\";float: left;margin-right: 0.25em;color: #696969;}#sk-container-id-1 label.sk-toggleable__label-arrow:hover:before {color: black;}#sk-container-id-1 div.sk-estimator:hover label.sk-toggleable__label-arrow:before {color: black;}#sk-container-id-1 div.sk-toggleable__content {max-height: 0;max-width: 0;overflow: hidden;text-align: left;background-color: #f0f8ff;}#sk-container-id-1 div.sk-toggleable__content pre {margin: 0.2em;color: black;border-radius: 0.25em;background-color: #f0f8ff;}#sk-container-id-1 input.sk-toggleable__control:checked~div.sk-toggleable__content {max-height: 200px;max-width: 100%;overflow: auto;}#sk-container-id-1 input.sk-toggleable__control:checked~label.sk-toggleable__label-arrow:before {content: \"▾\";}#sk-container-id-1 div.sk-estimator input.sk-toggleable__control:checked~label.sk-toggleable__label {background-color: #d4ebff;}#sk-container-id-1 div.sk-label input.sk-toggleable__control:checked~label.sk-toggleable__label {background-color: #d4ebff;}#sk-container-id-1 input.sk-hidden--visually {border: 0;clip: rect(1px 1px 1px 1px);clip: rect(1px, 1px, 1px, 1px);height: 1px;margin: -1px;overflow: hidden;padding: 0;position: absolute;width: 1px;}#sk-container-id-1 div.sk-estimator {font-family: monospace;background-color: #f0f8ff;border: 1px dotted black;border-radius: 0.25em;box-sizing: border-box;margin-bottom: 0.5em;}#sk-container-id-1 div.sk-estimator:hover {background-color: #d4ebff;}#sk-container-id-1 div.sk-parallel-item::after {content: \"\";width: 100%;border-bottom: 1px solid gray;flex-grow: 1;}#sk-container-id-1 div.sk-label:hover label.sk-toggleable__label {background-color: #d4ebff;}#sk-container-id-1 div.sk-serial::before {content: \"\";position: absolute;border-left: 1px solid gray;box-sizing: border-box;top: 0;bottom: 0;left: 50%;z-index: 0;}#sk-container-id-1 div.sk-serial {display: flex;flex-direction: column;align-items: center;background-color: white;padding-right: 0.2em;padding-left: 0.2em;position: relative;}#sk-container-id-1 div.sk-item {position: relative;z-index: 1;}#sk-container-id-1 div.sk-parallel {display: flex;align-items: stretch;justify-content: center;background-color: white;position: relative;}#sk-container-id-1 div.sk-item::before, #sk-container-id-1 div.sk-parallel-item::before {content: \"\";position: absolute;border-left: 1px solid gray;box-sizing: border-box;top: 0;bottom: 0;left: 50%;z-index: -1;}#sk-container-id-1 div.sk-parallel-item {display: flex;flex-direction: column;z-index: 1;position: relative;background-color: white;}#sk-container-id-1 div.sk-parallel-item:first-child::after {align-self: flex-end;width: 50%;}#sk-container-id-1 div.sk-parallel-item:last-child::after {align-self: flex-start;width: 50%;}#sk-container-id-1 div.sk-parallel-item:only-child::after {width: 0;}#sk-container-id-1 div.sk-dashed-wrapped {border: 1px dashed gray;margin: 0 0.4em 0.5em 0.4em;box-sizing: border-box;padding-bottom: 0.4em;background-color: white;}#sk-container-id-1 div.sk-label label {font-family: monospace;font-weight: bold;display: inline-block;line-height: 1.2em;}#sk-container-id-1 div.sk-label-container {text-align: center;}#sk-container-id-1 div.sk-container {/* jupyter's `normalize.less` sets `[hidden] { display: none; }` but bootstrap.min.css set `[hidden] { display: none !important; }` so we also need the `!important` here to be able to override the default hidden behavior on the sphinx rendered scikit-learn.org. See: https://github.com/scikit-learn/scikit-learn/issues/21755 */display: inline-block !important;position: relative;}#sk-container-id-1 div.sk-text-repr-fallback {display: none;}</style><div id=\"sk-container-id-1\" class=\"sk-top-container\"><div class=\"sk-text-repr-fallback\"><pre>RandomForestClassifier()</pre><b>In a Jupyter environment, please rerun this cell to show the HTML representation or trust the notebook. <br />On GitHub, the HTML representation is unable to render, please try loading this page with nbviewer.org.</b></div><div class=\"sk-container\" hidden><div class=\"sk-item\"><div class=\"sk-estimator sk-toggleable\"><input class=\"sk-toggleable__control sk-hidden--visually\" id=\"sk-estimator-id-1\" type=\"checkbox\" checked><label for=\"sk-estimator-id-1\" class=\"sk-toggleable__label sk-toggleable__label-arrow\">RandomForestClassifier</label><div class=\"sk-toggleable__content\"><pre>RandomForestClassifier()</pre></div></div></div></div></div>"
      ],
      "text/plain": [
       "RandomForestClassifier()"
      ]
     },
     "execution_count": 3,
     "metadata": {},
     "output_type": "execute_result"
    }
   ],
   "source": [
    "from sklearn.ensemble import RandomForestClassifier\n",
    "\n",
    "clf = RandomForestClassifier()\n",
    "\n",
    "target_dict = {\n",
    "    'Dropout':0,\n",
    "    'Graduate':1,\n",
    "    }\n",
    "\n",
    "df['Target'] = df['Target'].map(target_dict)\n",
    "\n",
    "X = imputed_df.drop(columns=['Target'])\n",
    "y = imputed_df['Target']\n",
    "\n",
    "clf.fit(X,y)"
   ]
  },
  {
   "cell_type": "code",
   "execution_count": 4,
   "id": "131f0484-5017-46f8-b2ac-9bd187fcd627",
   "metadata": {},
   "outputs": [
    {
     "name": "stdout",
     "output_type": "stream",
     "text": [
      "['config.json', 'model.pkl']\n"
     ]
    }
   ],
   "source": [
    "from skops import hub_utils, card\n",
    "import os\n",
    "import joblib\n",
    "\n",
    "# create a directory to initialize our repo\n",
    "local_repo = \"./model_dir\"\n",
    "# save the model\n",
    "pkl_path = \"./model.pkl\"\n",
    "joblib.dump(clf, pkl_path)\n",
    "joblib.dump(clf, \"models/final_rf.bin\")\n",
    "\n",
    "# initialize the repository \n",
    "hub_utils.init(model=pkl_path, \n",
    "               task=\"tabular-classification\",\n",
    "               requirements=[\"scikit-learn\"], \n",
    "               dst=local_repo,\n",
    "               data=X)\n",
    "\n",
    "# see what's inside the repository\n",
    "print(os.listdir(local_repo))"
   ]
  },
  {
   "cell_type": "code",
   "execution_count": 5,
   "id": "f0b06d5a-60a7-4d91-abb9-9d4a8dbf7acc",
   "metadata": {},
   "outputs": [],
   "source": [
    "from pathlib import Path\n",
    "model_card = card.Card(clf, metadata=card.metadata_from_config(Path(local_repo)))"
   ]
  },
  {
   "cell_type": "code",
   "execution_count": 6,
   "id": "c848ec36-f894-49cb-bb41-deb1d61d1065",
   "metadata": {},
   "outputs": [
    {
     "data": {
      "text/plain": [
       "Card(\n",
       "  model=RandomForestClassifier(),\n",
       "  metadata.library_name=sklearn,\n",
       "  metadata.tags=['sklearn', 'skops', 'tabular-classification'],\n",
       "  metadata.model_format=pickle,\n",
       "  metadata.model_file=model.pkl,\n",
       "  metadata.widget={...},\n",
       "  Model description/Training Procedure/Hyperparameters=TableSection(18x2),\n",
       "  Model description/Training Procedure/...</pre></div></div></div></div></div>,\n",
       "  model_description=This is a RandomFor...n student academic performance data.,\n",
       "  limitations=This model is trained for educational purposes.,\n",
       ")"
      ]
     },
     "execution_count": 6,
     "metadata": {},
     "output_type": "execute_result"
    }
   ],
   "source": [
    "description = \"This is a RandomForest Classifier trained on student academic performance data.\"\n",
    "limitations = \"This model is trained for educational purposes.\"\n",
    "model_card.add(model_description = description,\n",
    "              limitations = limitations)"
   ]
  },
  {
   "cell_type": "code",
   "execution_count": 7,
   "id": "17de6eea-74cd-4d70-9653-500bb5cc5774",
   "metadata": {},
   "outputs": [
    {
     "data": {
      "text/plain": [
       "Card(\n",
       "  model=RandomForestClassifier(),\n",
       "  metadata.library_name=sklearn,\n",
       "  metadata.tags=['sklearn', 'skops', 'tabular-classification'],\n",
       "  metadata.model_format=pickle,\n",
       "  metadata.model_file=model.pkl,\n",
       "  metadata.widget={...},\n",
       "  Model description/Training Procedure/Hyperparameters=TableSection(18x2),\n",
       "  Model description/Training Procedure/...</pre></div></div></div></div></div>,\n",
       "  Model description/Evaluation Results=TableSection(2x2),\n",
       "  model_description=This is a RandomFor...n student academic performance data.,\n",
       "  limitations=This model is trained for educational purposes.,\n",
       ")"
      ]
     },
     "execution_count": 7,
     "metadata": {},
     "output_type": "execute_result"
    }
   ],
   "source": [
    "model_card.add_metrics(**{\"accuracy\": 0.9041, \"roc_auc\": 0.9157})"
   ]
  },
  {
   "cell_type": "code",
   "execution_count": 8,
   "id": "49f10d4e-a9d5-44f6-bcde-722a2ba20900",
   "metadata": {},
   "outputs": [
    {
     "name": "stdout",
     "output_type": "stream",
     "text": [
      "                    0           1  accuracy    macro avg  weighted avg\n",
      "precision    0.965318    0.901169  0.923973     0.933243      0.927268\n",
      "recall       0.843434    0.979215  0.923973     0.911325      0.923973\n",
      "f1-score     0.900270    0.938572  0.923973     0.919421      0.922989\n",
      "support    594.000000  866.000000  0.923973  1460.000000   1460.000000\n"
     ]
    },
    {
     "data": {
      "image/png": "[encoded data removed]",
      "text/plain": [
       "<Figure size 640x480 with 2 Axes>"
      ]
     },
     "metadata": {},
     "output_type": "display_data"
    }
   ],
   "source": [
    "y_pred = clf.predict(X)\n",
    "\n",
    "disp = infer.run(imputed_df)\n",
    "disp.plot()\n",
    "# save the figure to repo\n",
    "disp.figure_.savefig(Path(local_repo) / \"confusion_matrix.png\")\n",
    "# write the figure to model card\n",
    "#model_card.add_plot(**{\"Confusion Matrix\": \"confusion_matrix.png\"})"
   ]
  },
  {
   "cell_type": "code",
   "execution_count": 9,
   "id": "26f122b1-dea8-4432-9cf4-01db9e75a693",
   "metadata": {},
   "outputs": [
    {
     "data": {
      "text/plain": [
       "Card(\n",
       "  model=RandomForestClassifier(),\n",
       "  metadata.library_name=sklearn,\n",
       "  metadata.tags=['sklearn', 'skops', 'tabular-classification'],\n",
       "  metadata.model_format=pickle,\n",
       "  metadata.model_file=model.pkl,\n",
       "  metadata.widget={...},\n",
       "  Model description/Training Procedure/Hyperparameters=TableSection(18x2),\n",
       "  Model description/Training Procedure/...</pre></div></div></div></div></div>,\n",
       "  Model description/Evaluation Results=TableSection(2x2),\n",
       "  model_description=This is a RandomFor...n student academic performance data.,\n",
       "  limitations=This model is trained for educational purposes.,\n",
       "  Confusion Matrix=PlotSection(confusion_matrix.png),\n",
       ")"
      ]
     },
     "execution_count": 9,
     "metadata": {},
     "output_type": "execute_result"
    }
   ],
   "source": [
    "model_card.add_plot(**{\"Confusion Matrix\": \"confusion_matrix.png\"})"
   ]
  },
  {
   "cell_type": "code",
   "execution_count": 10,
   "id": "5fa6d836-70cd-4553-b2e6-774013cb460a",
   "metadata": {},
   "outputs": [],
   "source": [
    "model_card.save(Path(local_repo) / \"README.md\")"
   ]
  },
  {
   "cell_type": "code",
   "execution_count": 11,
   "id": "7b5bd27f-0d4e-450b-8e96-6311b8b7f168",
   "metadata": {},
   "outputs": [
    {
     "data": {
      "application/vnd.jupyter.widget-view+json": {
       "model_id": "286ac6bd9f2d484595510ad8f7582a7d",
       "version_major": 2,
       "version_minor": 0
      },
      "text/plain": [
       "VBox(children=(HTML(value='<center> <img\\nsrc=https://huggingface.co/front/assets/huggingface_logo-noborder.sv…"
      ]
     },
     "metadata": {},
     "output_type": "display_data"
    }
   ],
   "source": [
    "from huggingface_hub import notebook_login\n",
    "notebook_login()"
   ]
  },
  {
   "cell_type": "code",
   "execution_count": 13,
   "id": "55a936bb-13c1-4579-a82f-39f104bb2809",
   "metadata": {},
   "outputs": [
    {
     "data": {
      "application/vnd.jupyter.widget-view+json": {
       "model_id": "e37174aa15704ab19175438ad9c93ff0",
       "version_major": 2,
       "version_minor": 0
      },
      "text/plain": [
       "Upload 1 LFS files:   0%|          | 0/1 [00:00<?, ?it/s]"
      ]
     },
     "metadata": {},
     "output_type": "display_data"
    },
    {
     "data": {
      "application/vnd.jupyter.widget-view+json": {
       "model_id": "66970eead1124ac28d02777cc900be24",
       "version_major": 2,
       "version_minor": 0
      },
      "text/plain": [
       "model.pkl:   0%|          | 0.00/6.86M [00:00<?, ?B/s]"
      ]
     },
     "metadata": {},
     "output_type": "display_data"
    }
   ],
   "source": [
    "hub_utils.push(repo_id = \"sulpha/student_academic_success\",\n",
    "               source = local_repo,\n",
    "               create_remote = True)"
   ]
  },
  {
   "cell_type": "code",
   "execution_count": null,
   "id": "dc6b45d8-2c5d-44b2-bfc2-0633945fbd5c",
   "metadata": {},
   "outputs": [],
   "source": []
  }
 ],
 "metadata": {
  "kernelspec": {
   "display_name": "Python 3 (ipykernel)",
   "language": "python",
   "name": "python3"
  },
  "language_info": {
   "codemirror_mode": {
    "name": "ipython",
    "version": 3
   },
   "file_extension": ".py",
   "mimetype": "text/x-python",
   "name": "python",
   "nbconvert_exporter": "python",
   "pygments_lexer": "ipython3",
   "version": "3.8.13"
  }
 },
 "nbformat": 4,
 "nbformat_minor": 5
}
